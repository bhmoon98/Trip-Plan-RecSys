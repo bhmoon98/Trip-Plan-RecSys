{
 "cells": [
  {
   "cell_type": "markdown",
   "metadata": {},
   "source": [
    "**Inference Process**\n",
    "\n",
    "You can inference the model by creating the model in CBF.ipynb.\n",
    "Make sure to check the model file name and file location."
   ]
  },
  {
   "cell_type": "code",
   "execution_count": 2,
   "metadata": {},
   "outputs": [],
   "source": [
    "import pandas as pd\n",
    "from catboost import CatBoostRegressor\n"
   ]
  },
  {
   "cell_type": "code",
   "execution_count": 3,
   "metadata": {},
   "outputs": [],
   "source": [
    "# Set your traveller\n",
    "traveller = {\n",
    "    'GENDER': 0,\n",
    "    'AGE_GRP': 20,\n",
    "    'TRAVEL_COMPANIONS_NUM': 1,\n",
    "    'TRAVEL_STYL_1': 1,\n",
    "    'TRAVEL_STYL_2': 1,\n",
    "    'TRAVEL_STYL_3': 1,\n",
    "    'TRAVEL_STYL_4': 1,\n",
    "    'TRAVEL_STYL_5': 1,\n",
    "    'TRAVEL_STYL_6': 1,\n",
    "    'TRAVEL_STYL_7': 1,\n",
    "    'TRAVEL_STYL_8': 1,\n",
    "    'TRAVEL_MOTIVE_1': 1,\n",
    "    'TRAVEL_MISSION_PRIORITY': 1,\n",
    "}"
   ]
  },
  {
   "cell_type": "code",
   "execution_count": 5,
   "metadata": {},
   "outputs": [
    {
     "data": {
      "text/plain": [
       "[{'AREA': '경복궁', 'SCORE': array([4.72896824])},\n",
       " {'AREA': '국립중앙박물관', 'SCORE': array([4.7179002])},\n",
       " {'AREA': '올림픽공원', 'SCORE': array([4.71070789])},\n",
       " {'AREA': '청계광장', 'SCORE': array([4.71054645])},\n",
       " {'AREA': '성수동수제화거리', 'SCORE': array([4.70870824])},\n",
       " {'AREA': '그랑핸드 북촌', 'SCORE': array([4.70112092])},\n",
       " {'AREA': '여의도한강공원', 'SCORE': array([4.70105449])},\n",
       " {'AREA': '덕수궁', 'SCORE': array([4.70101844])},\n",
       " {'AREA': '서울숲', 'SCORE': array([4.69596956])},\n",
       " {'AREA': '비스타워커힐 서울', 'SCORE': array([4.69178559])}]"
      ]
     },
     "execution_count": 5,
     "metadata": {},
     "output_type": "execute_result"
    }
   ],
   "source": [
    "model = CatBoostRegressor()\n",
    "model.load_model('cbf_model.cbm') ## your model file name\n",
    "\n",
    "results = pd.DataFrame([], columns=['AREA', 'SCORE'])\n",
    "\n",
    "df = pd.read_csv('inference_cbf.csv')\n",
    "area_names = df[df['SIDO'] == '서울']['VISIT_AREA_NM'].drop_duplicates()\n",
    "\n",
    "for area in area_names:\n",
    "    model_input = pd.DataFrame([traveller])\n",
    "    model_input['VISIT_AREA_NM'] = area\n",
    "\n",
    "    score = model.predict(model_input, verbose = False)\n",
    "\n",
    "    results = pd.concat([results, pd.DataFrame([[area, score]], columns=['AREA', 'SCORE'])])\n",
    "\n",
    "top_results = results.sort_values('SCORE', ascending=False)[:10]\n",
    "recommendations = top_results.to_dict('records')\n",
    "\n",
    "recommendations"
   ]
  }
 ],
 "metadata": {
  "kernelspec": {
   "display_name": "Python 3",
   "language": "python",
   "name": "python3"
  },
  "language_info": {
   "codemirror_mode": {
    "name": "ipython",
    "version": 3
   },
   "file_extension": ".py",
   "mimetype": "text/x-python",
   "name": "python",
   "nbconvert_exporter": "python",
   "pygments_lexer": "ipython3",
   "version": "3.9.6"
  }
 },
 "nbformat": 4,
 "nbformat_minor": 2
}
