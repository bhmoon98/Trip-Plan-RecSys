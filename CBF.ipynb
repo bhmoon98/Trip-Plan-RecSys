{
 "cells": [
  {
   "cell_type": "code",
   "execution_count": 5,
   "metadata": {},
   "outputs": [
    {
     "name": "stdout",
     "output_type": "stream",
     "text": [
      "Defaulting to user installation because normal site-packages is not writeable\n",
      "Collecting pandas==2.1.4\n",
      "  Downloading pandas-2.1.4-cp39-cp39-macosx_11_0_arm64.whl (11.0 MB)\n",
      "\u001b[K     |████████████████████████████████| 11.0 MB 8.7 MB/s eta 0:00:01\n",
      "\u001b[?25hCollecting catboost==1.2\n",
      "  Downloading catboost-1.2-cp39-cp39-macosx_11_0_universal2.whl (25.7 MB)\n",
      "\u001b[K     |████████████████████████████████| 25.7 MB 38.7 MB/s eta 0:00:01\n",
      "\u001b[?25hCollecting numpy==1.24.3\n",
      "  Downloading numpy-1.24.3-cp39-cp39-macosx_11_0_arm64.whl (13.9 MB)\n",
      "\u001b[K     |████████████████████████████████| 13.9 MB 25.5 MB/s eta 0:00:01\n",
      "\u001b[?25hCollecting scikit-learn==1.2.2\n",
      "  Downloading scikit_learn-1.2.2-cp39-cp39-macosx_12_0_arm64.whl (8.5 MB)\n",
      "\u001b[K     |████████████████████████████████| 8.5 MB 35.2 MB/s eta 0:00:01\n",
      "\u001b[?25hCollecting scikit-surprise==1.1.3\n",
      "  Downloading scikit-surprise-1.1.3.tar.gz (771 kB)\n",
      "\u001b[K     |████████████████████████████████| 771 kB 43.2 MB/s eta 0:00:01\n",
      "\u001b[?25hRequirement already satisfied: python-dateutil>=2.8.2 in /Users/bmoon/Library/Python/3.9/lib/python/site-packages (from pandas==2.1.4->-r requirements.txt (line 1)) (2.9.0.post0)\n",
      "Requirement already satisfied: tzdata>=2022.1 in /Users/bmoon/Library/Python/3.9/lib/python/site-packages (from pandas==2.1.4->-r requirements.txt (line 1)) (2024.1)\n",
      "Requirement already satisfied: pytz>=2020.1 in /Users/bmoon/Library/Python/3.9/lib/python/site-packages (from pandas==2.1.4->-r requirements.txt (line 1)) (2024.1)\n",
      "Requirement already satisfied: scipy in /Users/bmoon/Library/Python/3.9/lib/python/site-packages (from catboost==1.2->-r requirements.txt (line 2)) (1.12.0)\n",
      "Requirement already satisfied: plotly in /Users/bmoon/Library/Python/3.9/lib/python/site-packages (from catboost==1.2->-r requirements.txt (line 2)) (5.19.0)\n",
      "Requirement already satisfied: matplotlib in /Users/bmoon/Library/Python/3.9/lib/python/site-packages (from catboost==1.2->-r requirements.txt (line 2)) (3.8.3)\n",
      "Requirement already satisfied: graphviz in /Users/bmoon/Library/Python/3.9/lib/python/site-packages (from catboost==1.2->-r requirements.txt (line 2)) (0.20.1)\n",
      "Requirement already satisfied: six in /Library/Developer/CommandLineTools/Library/Frameworks/Python3.framework/Versions/3.9/lib/python3.9/site-packages (from catboost==1.2->-r requirements.txt (line 2)) (1.15.0)\n",
      "Collecting threadpoolctl>=2.0.0\n",
      "  Downloading threadpoolctl-3.3.0-py3-none-any.whl (17 kB)\n",
      "Collecting joblib>=1.1.1\n",
      "  Downloading joblib-1.3.2-py3-none-any.whl (302 kB)\n",
      "\u001b[K     |████████████████████████████████| 302 kB 44.2 MB/s eta 0:00:01\n",
      "\u001b[?25hRequirement already satisfied: pillow>=8 in /Users/bmoon/Library/Python/3.9/lib/python/site-packages (from matplotlib->catboost==1.2->-r requirements.txt (line 2)) (10.2.0)\n",
      "Requirement already satisfied: contourpy>=1.0.1 in /Users/bmoon/Library/Python/3.9/lib/python/site-packages (from matplotlib->catboost==1.2->-r requirements.txt (line 2)) (1.2.0)\n",
      "Requirement already satisfied: kiwisolver>=1.3.1 in /Users/bmoon/Library/Python/3.9/lib/python/site-packages (from matplotlib->catboost==1.2->-r requirements.txt (line 2)) (1.4.5)\n",
      "Requirement already satisfied: pyparsing>=2.3.1 in /Users/bmoon/Library/Python/3.9/lib/python/site-packages (from matplotlib->catboost==1.2->-r requirements.txt (line 2)) (3.1.1)\n",
      "Requirement already satisfied: cycler>=0.10 in /Users/bmoon/Library/Python/3.9/lib/python/site-packages (from matplotlib->catboost==1.2->-r requirements.txt (line 2)) (0.12.1)\n",
      "Requirement already satisfied: fonttools>=4.22.0 in /Users/bmoon/Library/Python/3.9/lib/python/site-packages (from matplotlib->catboost==1.2->-r requirements.txt (line 2)) (4.49.0)\n",
      "Requirement already satisfied: packaging>=20.0 in /Users/bmoon/Library/Python/3.9/lib/python/site-packages (from matplotlib->catboost==1.2->-r requirements.txt (line 2)) (23.2)\n",
      "Requirement already satisfied: importlib-resources>=3.2.0 in /Users/bmoon/Library/Python/3.9/lib/python/site-packages (from matplotlib->catboost==1.2->-r requirements.txt (line 2)) (6.1.2)\n",
      "Requirement already satisfied: zipp>=3.1.0 in /Users/bmoon/Library/Python/3.9/lib/python/site-packages (from importlib-resources>=3.2.0->matplotlib->catboost==1.2->-r requirements.txt (line 2)) (3.17.0)\n",
      "Requirement already satisfied: tenacity>=6.2.0 in /Users/bmoon/Library/Python/3.9/lib/python/site-packages (from plotly->catboost==1.2->-r requirements.txt (line 2)) (8.2.3)\n",
      "Building wheels for collected packages: scikit-surprise\n",
      "  Building wheel for scikit-surprise (setup.py) ... \u001b[?25ldone\n",
      "\u001b[?25h  Created wheel for scikit-surprise: filename=scikit_surprise-1.1.3-cp39-cp39-macosx_10_9_universal2.whl size=1584099 sha256=ea02695c220f50974e06954cba552f8db2bbbebfce6f714dc5c3832a64eb6a41\n",
      "  Stored in directory: /Users/bmoon/Library/Caches/pip/wheels/c6/3a/46/9b17b3512bdf283c6cb84f59929cdd5199d4e754d596d22784\n",
      "Successfully built scikit-surprise\n",
      "Installing collected packages: numpy, threadpoolctl, pandas, joblib, scikit-surprise, scikit-learn, catboost\n",
      "  Attempting uninstall: numpy\n",
      "    Found existing installation: numpy 1.26.4\n",
      "    Uninstalling numpy-1.26.4:\n",
      "      Successfully uninstalled numpy-1.26.4\n",
      "  Attempting uninstall: pandas\n",
      "    Found existing installation: pandas 2.2.1\n",
      "    Uninstalling pandas-2.2.1:\n",
      "      Successfully uninstalled pandas-2.2.1\n",
      "  Attempting uninstall: catboost\n",
      "    Found existing installation: catboost 1.2.3\n",
      "    Uninstalling catboost-1.2.3:\n",
      "      Successfully uninstalled catboost-1.2.3\n",
      "Successfully installed catboost-1.2 joblib-1.3.2 numpy-1.24.3 pandas-2.1.4 scikit-learn-1.2.2 scikit-surprise-1.1.3 threadpoolctl-3.3.0\n",
      "\u001b[33mWARNING: You are using pip version 21.2.4; however, version 24.0 is available.\n",
      "You should consider upgrading via the '/Library/Developer/CommandLineTools/usr/bin/python3 -m pip install --upgrade pip' command.\u001b[0m\n",
      "Note: you may need to restart the kernel to use updated packages.\n"
     ]
    }
   ],
   "source": [
    "pip install -r requirements.txt"
   ]
  },
  {
   "cell_type": "code",
   "execution_count": 6,
   "metadata": {},
   "outputs": [],
   "source": [
    "import pandas as pd\n",
    "import os\n",
    "import preprocess.preprocess as cbf\n",
    "from catboost import CatBoostRegressor, Pool\n",
    "from sklearn.metrics import mean_squared_error\n",
    "from sklearn.model_selection import train_test_split"
   ]
  },
  {
   "cell_type": "code",
   "execution_count": 7,
   "metadata": {},
   "outputs": [
    {
     "name": "stderr",
     "output_type": "stream",
     "text": [
      "/var/folders/jx/jl9n9n4d0qj3w4flzwz3w0y00000gn/T/ipykernel_7665/1656092857.py:5: DtypeWarning: Columns (8,9) have mixed types. Specify dtype option on import or set low_memory=False.\n",
      "  df_area = pd.read_csv(os.path.join(data_path, 'area.csv'))\n"
     ]
    }
   ],
   "source": [
    "data_path = os.path.abspath(os.path.join(os.getcwd(), 'data'))\n",
    "\n",
    "df_traveller = pd.read_csv(os.path.join(data_path, 'traveller.csv'))\n",
    "df_travel = pd.read_csv(os.path.join(data_path, 'travel.csv'))\n",
    "df_area = pd.read_csv(os.path.join(data_path, 'area.csv'))"
   ]
  },
  {
   "cell_type": "code",
   "execution_count": 8,
   "metadata": {},
   "outputs": [
    {
     "name": "stderr",
     "output_type": "stream",
     "text": [
      "/Users/bmoon/Desktop/moon/projects/recsys/preprocess/preprocess.py:8: SettingWithCopyWarning: \n",
      "A value is trying to be set on a copy of a slice from a DataFrame\n",
      "\n",
      "See the caveats in the documentation: https://pandas.pydata.org/pandas-docs/stable/user_guide/indexing.html#returning-a-view-versus-a-copy\n",
      "  df_area.dropna(subset = ['LOTNO_ADDR'], inplace = True)\n",
      "/Users/bmoon/Desktop/moon/projects/recsys/preprocess/preprocess.py:61: SettingWithCopyWarning: \n",
      "A value is trying to be set on a copy of a slice from a DataFrame.\n",
      "Try using .loc[row_indexer,col_indexer] = value instead\n",
      "\n",
      "See the caveats in the documentation: https://pandas.pydata.org/pandas-docs/stable/user_guide/indexing.html#returning-a-view-versus-a-copy\n",
      "  df['RESIDENCE_TIME_MIN'] = df['RESIDENCE_TIME_MIN'].replace(0,60)\n",
      "/Users/bmoon/Desktop/moon/projects/recsys/preprocess/preprocess.py:62: SettingWithCopyWarning: \n",
      "A value is trying to be set on a copy of a slice from a DataFrame.\n",
      "Try using .loc[row_indexer,col_indexer] = value instead\n",
      "\n",
      "See the caveats in the documentation: https://pandas.pydata.org/pandas-docs/stable/user_guide/indexing.html#returning-a-view-versus-a-copy\n",
      "  df['REVISIT_YN'] = df['REVISIT_YN'].replace('N', 0)\n",
      "/Users/bmoon/Desktop/moon/projects/recsys/preprocess/preprocess.py:63: FutureWarning: Downcasting behavior in `replace` is deprecated and will be removed in a future version. To retain the old behavior, explicitly call `result.infer_objects(copy=False)`. To opt-in to the future behavior, set `pd.set_option('future.no_silent_downcasting', True)`\n",
      "  df['REVISIT_YN'] = df['REVISIT_YN'].replace('Y', 1)\n",
      "/Users/bmoon/Desktop/moon/projects/recsys/preprocess/preprocess.py:63: SettingWithCopyWarning: \n",
      "A value is trying to be set on a copy of a slice from a DataFrame.\n",
      "Try using .loc[row_indexer,col_indexer] = value instead\n",
      "\n",
      "See the caveats in the documentation: https://pandas.pydata.org/pandas-docs/stable/user_guide/indexing.html#returning-a-view-versus-a-copy\n",
      "  df['REVISIT_YN'] = df['REVISIT_YN'].replace('Y', 1)\n",
      "/Users/bmoon/Desktop/moon/projects/recsys/preprocess/preprocess.py:64: SettingWithCopyWarning: \n",
      "A value is trying to be set on a copy of a slice from a DataFrame.\n",
      "Try using .loc[row_indexer,col_indexer] = value instead\n",
      "\n",
      "See the caveats in the documentation: https://pandas.pydata.org/pandas-docs/stable/user_guide/indexing.html#returning-a-view-versus-a-copy\n",
      "  df['GENDER'] = df['GENDER'].replace('남', 0)\n",
      "/Users/bmoon/Desktop/moon/projects/recsys/preprocess/preprocess.py:65: FutureWarning: Downcasting behavior in `replace` is deprecated and will be removed in a future version. To retain the old behavior, explicitly call `result.infer_objects(copy=False)`. To opt-in to the future behavior, set `pd.set_option('future.no_silent_downcasting', True)`\n",
      "  df['GENDER'] = df['GENDER'].replace('여', 1)\n",
      "/Users/bmoon/Desktop/moon/projects/recsys/preprocess/preprocess.py:65: SettingWithCopyWarning: \n",
      "A value is trying to be set on a copy of a slice from a DataFrame.\n",
      "Try using .loc[row_indexer,col_indexer] = value instead\n",
      "\n",
      "See the caveats in the documentation: https://pandas.pydata.org/pandas-docs/stable/user_guide/indexing.html#returning-a-view-versus-a-copy\n",
      "  df['GENDER'] = df['GENDER'].replace('여', 1)\n"
     ]
    }
   ],
   "source": [
    "df, categorical_features = cbf.cbf_preprocess(df_traveller, df_travel, df_area)"
   ]
  },
  {
   "cell_type": "code",
   "execution_count": 10,
   "metadata": {},
   "outputs": [
    {
     "ename": "CatBoostError",
     "evalue": "/Users/zomb-ml-platform-msk/go-agent-21.2.0/pipelines/BuildMaster/catboost.git/catboost/libs/train_lib/trainer_env.cpp:9: Environment for task type [GPU] not found",
     "output_type": "error",
     "traceback": [
      "\u001b[0;31m---------------------------------------------------------------------------\u001b[0m",
      "\u001b[0;31mCatBoostError\u001b[0m                             Traceback (most recent call last)",
      "Cell \u001b[0;32mIn[10], line 13\u001b[0m\n\u001b[1;32m     11\u001b[0m \u001b[38;5;66;03m# 모델 학습\u001b[39;00m\n\u001b[1;32m     12\u001b[0m model \u001b[38;5;241m=\u001b[39m CatBoostRegressor(loss_function\u001b[38;5;241m=\u001b[39m\u001b[38;5;124m'\u001b[39m\u001b[38;5;124mRMSE\u001b[39m\u001b[38;5;124m'\u001b[39m, eval_metric\u001b[38;5;241m=\u001b[39m\u001b[38;5;124m'\u001b[39m\u001b[38;5;124mMAE\u001b[39m\u001b[38;5;124m'\u001b[39m, task_type\u001b[38;5;241m=\u001b[39m\u001b[38;5;124m'\u001b[39m\u001b[38;5;124mGPU\u001b[39m\u001b[38;5;124m'\u001b[39m, depth\u001b[38;5;241m=\u001b[39m\u001b[38;5;241m6\u001b[39m, learning_rate\u001b[38;5;241m=\u001b[39m\u001b[38;5;241m0.01\u001b[39m, n_estimators\u001b[38;5;241m=\u001b[39m\u001b[38;5;241m2000\u001b[39m)\n\u001b[0;32m---> 13\u001b[0m \u001b[43mmodel\u001b[49m\u001b[38;5;241;43m.\u001b[39;49m\u001b[43mfit\u001b[49m\u001b[43m(\u001b[49m\u001b[43mtrain_pool\u001b[49m\u001b[43m,\u001b[49m\u001b[43m \u001b[49m\u001b[43meval_set\u001b[49m\u001b[38;5;241;43m=\u001b[39;49m\u001b[43mtest_pool\u001b[49m\u001b[43m,\u001b[49m\u001b[43m \u001b[49m\u001b[43mverbose\u001b[49m\u001b[38;5;241;43m=\u001b[39;49m\u001b[38;5;28;43;01mFalse\u001b[39;49;00m\u001b[43m)\u001b[49m\n\u001b[1;32m     15\u001b[0m \u001b[38;5;66;03m# 검증 데이터셋에서의 MSE 계산\u001b[39;00m\n\u001b[1;32m     16\u001b[0m predictions \u001b[38;5;241m=\u001b[39m model\u001b[38;5;241m.\u001b[39mpredict(test_pool)\n",
      "File \u001b[0;32m~/Library/Python/3.9/lib/python/site-packages/catboost/core.py:5807\u001b[0m, in \u001b[0;36mfit\u001b[0;34m(self, X, y, cat_features, text_features, embedding_features, sample_weight, baseline, use_best_model, eval_set, verbose, logging_level, plot, plot_file, column_description, verbose_eval, metric_period, silent, early_stopping_rounds, save_snapshot, snapshot_file, snapshot_interval, init_model, callbacks, log_cout, log_cerr)\u001b[0m\n\u001b[1;32m   5781\u001b[0m \u001b[38;5;28;01mdef\u001b[39;00m \u001b[38;5;21mstaged_predict\u001b[39m(\u001b[38;5;28mself\u001b[39m, data, prediction_type\u001b[38;5;241m=\u001b[39m\u001b[38;5;124m'\u001b[39m\u001b[38;5;124mRawFormulaVal\u001b[39m\u001b[38;5;124m'\u001b[39m, ntree_start\u001b[38;5;241m=\u001b[39m\u001b[38;5;241m0\u001b[39m, ntree_end\u001b[38;5;241m=\u001b[39m\u001b[38;5;241m0\u001b[39m, eval_period\u001b[38;5;241m=\u001b[39m\u001b[38;5;241m1\u001b[39m, thread_count\u001b[38;5;241m=\u001b[39m\u001b[38;5;241m-\u001b[39m\u001b[38;5;241m1\u001b[39m, verbose\u001b[38;5;241m=\u001b[39m\u001b[38;5;28;01mNone\u001b[39;00m):\n\u001b[1;32m   5782\u001b[0m \u001b[38;5;250m    \u001b[39m\u001b[38;5;124;03m\"\"\"\u001b[39;00m\n\u001b[1;32m   5783\u001b[0m \u001b[38;5;124;03m    Predict target at each stage for data.\u001b[39;00m\n\u001b[1;32m   5784\u001b[0m \n\u001b[1;32m   5785\u001b[0m \u001b[38;5;124;03m    Parameters\u001b[39;00m\n\u001b[1;32m   5786\u001b[0m \u001b[38;5;124;03m    ----------\u001b[39;00m\n\u001b[1;32m   5787\u001b[0m \u001b[38;5;124;03m    data : catboost.Pool or list of features or list of lists or numpy.ndarray or pandas.DataFrame or pandas.Series\u001b[39;00m\n\u001b[1;32m   5788\u001b[0m \u001b[38;5;124;03m            or catboost.FeaturesData\u001b[39;00m\n\u001b[1;32m   5789\u001b[0m \u001b[38;5;124;03m        Data to apply model on.\u001b[39;00m\n\u001b[1;32m   5790\u001b[0m \u001b[38;5;124;03m        If data is a simple list (not list of lists) or a one-dimensional numpy.ndarray it is interpreted\u001b[39;00m\n\u001b[1;32m   5791\u001b[0m \u001b[38;5;124;03m        as a list of features for a single object.\u001b[39;00m\n\u001b[1;32m   5792\u001b[0m \n\u001b[1;32m   5793\u001b[0m \u001b[38;5;124;03m    ntree_start: int, optional (default=0)\u001b[39;00m\n\u001b[1;32m   5794\u001b[0m \u001b[38;5;124;03m        Model is applied on the interval [ntree_start, ntree_end) with the step eval_period (zero-based indexing).\u001b[39;00m\n\u001b[1;32m   5795\u001b[0m \n\u001b[1;32m   5796\u001b[0m \u001b[38;5;124;03m    ntree_end: int, optional (default=0)\u001b[39;00m\n\u001b[1;32m   5797\u001b[0m \u001b[38;5;124;03m        Model is applied on the interval [ntree_start, ntree_end) with the step eval_period (zero-based indexing).\u001b[39;00m\n\u001b[1;32m   5798\u001b[0m \u001b[38;5;124;03m        If value equals to 0 this parameter is ignored and ntree_end equal to tree_count_.\u001b[39;00m\n\u001b[1;32m   5799\u001b[0m \n\u001b[1;32m   5800\u001b[0m \u001b[38;5;124;03m    eval_period: int, optional (default=1)\u001b[39;00m\n\u001b[1;32m   5801\u001b[0m \u001b[38;5;124;03m        Model is applied on the interval [ntree_start, ntree_end) with the step eval_period (zero-based indexing).\u001b[39;00m\n\u001b[1;32m   5802\u001b[0m \n\u001b[1;32m   5803\u001b[0m \u001b[38;5;124;03m    thread_count : int (default=-1)\u001b[39;00m\n\u001b[1;32m   5804\u001b[0m \u001b[38;5;124;03m        The number of threads to use when applying the model.\u001b[39;00m\n\u001b[1;32m   5805\u001b[0m \u001b[38;5;124;03m        Allows you to optimize the speed of execution. This parameter doesn't affect results.\u001b[39;00m\n\u001b[1;32m   5806\u001b[0m \u001b[38;5;124;03m        If -1, then the number of threads is set to the number of CPU cores.\u001b[39;00m\n\u001b[0;32m-> 5807\u001b[0m \n\u001b[1;32m   5808\u001b[0m \u001b[38;5;124;03m    verbose : bool\u001b[39;00m\n\u001b[1;32m   5809\u001b[0m \u001b[38;5;124;03m        If True, writes the evaluation metric measured set to stderr.\u001b[39;00m\n\u001b[1;32m   5810\u001b[0m \n\u001b[1;32m   5811\u001b[0m \u001b[38;5;124;03m    Returns\u001b[39;00m\n\u001b[1;32m   5812\u001b[0m \u001b[38;5;124;03m    -------\u001b[39;00m\n\u001b[1;32m   5813\u001b[0m \u001b[38;5;124;03m    prediction : generator for each iteration that generates:\u001b[39;00m\n\u001b[1;32m   5814\u001b[0m \u001b[38;5;124;03m        If data is for a single object, the return value is single float formula return value\u001b[39;00m\n\u001b[1;32m   5815\u001b[0m \u001b[38;5;124;03m        otherwise one-dimensional numpy.ndarray of formula return values for each object.\u001b[39;00m\n\u001b[1;32m   5816\u001b[0m \u001b[38;5;124;03m    \"\"\"\u001b[39;00m\n\u001b[1;32m   5817\u001b[0m     \u001b[38;5;28;01mreturn\u001b[39;00m \u001b[38;5;28mself\u001b[39m\u001b[38;5;241m.\u001b[39m_staged_predict(data, prediction_type, ntree_start, ntree_end, eval_period, thread_count, verbose, \u001b[38;5;124m'\u001b[39m\u001b[38;5;124mstaged_predict\u001b[39m\u001b[38;5;124m'\u001b[39m)\n",
      "File \u001b[0;32m~/Library/Python/3.9/lib/python/site-packages/catboost/core.py:2396\u001b[0m, in \u001b[0;36m_fit\u001b[0;34m(self, X, y, cat_features, text_features, embedding_features, pairs, sample_weight, group_id, group_weight, subgroup_id, pairs_weight, baseline, use_best_model, eval_set, verbose, logging_level, plot, plot_file, column_description, verbose_eval, metric_period, silent, early_stopping_rounds, save_snapshot, snapshot_file, snapshot_interval, init_model, callbacks, log_cout, log_cerr)\u001b[0m\n\u001b[1;32m   2384\u001b[0m \u001b[38;5;28;01mdef\u001b[39;00m \u001b[38;5;21mfit\u001b[39m(\u001b[38;5;28mself\u001b[39m, X, y\u001b[38;5;241m=\u001b[39m\u001b[38;5;28;01mNone\u001b[39;00m, cat_features\u001b[38;5;241m=\u001b[39m\u001b[38;5;28;01mNone\u001b[39;00m, text_features\u001b[38;5;241m=\u001b[39m\u001b[38;5;28;01mNone\u001b[39;00m, embedding_features\u001b[38;5;241m=\u001b[39m\u001b[38;5;28;01mNone\u001b[39;00m, pairs\u001b[38;5;241m=\u001b[39m\u001b[38;5;28;01mNone\u001b[39;00m, sample_weight\u001b[38;5;241m=\u001b[39m\u001b[38;5;28;01mNone\u001b[39;00m, group_id\u001b[38;5;241m=\u001b[39m\u001b[38;5;28;01mNone\u001b[39;00m,\n\u001b[1;32m   2385\u001b[0m         group_weight\u001b[38;5;241m=\u001b[39m\u001b[38;5;28;01mNone\u001b[39;00m, subgroup_id\u001b[38;5;241m=\u001b[39m\u001b[38;5;28;01mNone\u001b[39;00m, pairs_weight\u001b[38;5;241m=\u001b[39m\u001b[38;5;28;01mNone\u001b[39;00m, baseline\u001b[38;5;241m=\u001b[39m\u001b[38;5;28;01mNone\u001b[39;00m, use_best_model\u001b[38;5;241m=\u001b[39m\u001b[38;5;28;01mNone\u001b[39;00m,\n\u001b[1;32m   2386\u001b[0m         eval_set\u001b[38;5;241m=\u001b[39m\u001b[38;5;28;01mNone\u001b[39;00m, verbose\u001b[38;5;241m=\u001b[39m\u001b[38;5;28;01mNone\u001b[39;00m, logging_level\u001b[38;5;241m=\u001b[39m\u001b[38;5;28;01mNone\u001b[39;00m, plot\u001b[38;5;241m=\u001b[39m\u001b[38;5;28;01mFalse\u001b[39;00m, plot_file\u001b[38;5;241m=\u001b[39m\u001b[38;5;28;01mNone\u001b[39;00m, column_description\u001b[38;5;241m=\u001b[39m\u001b[38;5;28;01mNone\u001b[39;00m,\n\u001b[1;32m   2387\u001b[0m         verbose_eval\u001b[38;5;241m=\u001b[39m\u001b[38;5;28;01mNone\u001b[39;00m, metric_period\u001b[38;5;241m=\u001b[39m\u001b[38;5;28;01mNone\u001b[39;00m, silent\u001b[38;5;241m=\u001b[39m\u001b[38;5;28;01mNone\u001b[39;00m, early_stopping_rounds\u001b[38;5;241m=\u001b[39m\u001b[38;5;28;01mNone\u001b[39;00m,\n\u001b[1;32m   2388\u001b[0m         save_snapshot\u001b[38;5;241m=\u001b[39m\u001b[38;5;28;01mNone\u001b[39;00m, snapshot_file\u001b[38;5;241m=\u001b[39m\u001b[38;5;28;01mNone\u001b[39;00m, snapshot_interval\u001b[38;5;241m=\u001b[39m\u001b[38;5;28;01mNone\u001b[39;00m, init_model\u001b[38;5;241m=\u001b[39m\u001b[38;5;28;01mNone\u001b[39;00m, callbacks\u001b[38;5;241m=\u001b[39m\u001b[38;5;28;01mNone\u001b[39;00m,\n\u001b[1;32m   2389\u001b[0m         log_cout\u001b[38;5;241m=\u001b[39msys\u001b[38;5;241m.\u001b[39mstdout, log_cerr\u001b[38;5;241m=\u001b[39msys\u001b[38;5;241m.\u001b[39mstderr):\n\u001b[1;32m   2390\u001b[0m \u001b[38;5;250m    \u001b[39m\u001b[38;5;124;03m\"\"\"\u001b[39;00m\n\u001b[1;32m   2391\u001b[0m \u001b[38;5;124;03m    Fit the CatBoost model.\u001b[39;00m\n\u001b[1;32m   2392\u001b[0m \n\u001b[1;32m   2393\u001b[0m \u001b[38;5;124;03m    Parameters\u001b[39;00m\n\u001b[1;32m   2394\u001b[0m \u001b[38;5;124;03m    ----------\u001b[39;00m\n\u001b[1;32m   2395\u001b[0m \u001b[38;5;124;03m    X : catboost.Pool or list or numpy.ndarray or pandas.DataFrame or pandas.Series\u001b[39;00m\n\u001b[0;32m-> 2396\u001b[0m \u001b[38;5;124;03m         or string.\u001b[39;00m\n\u001b[1;32m   2397\u001b[0m \u001b[38;5;124;03m        If not catboost.Pool or catboost.FeaturesData it must be 2 dimensional Feature matrix\u001b[39;00m\n\u001b[1;32m   2398\u001b[0m \u001b[38;5;124;03m         or string - file with dataset.\u001b[39;00m\n\u001b[1;32m   2399\u001b[0m \n\u001b[1;32m   2400\u001b[0m \u001b[38;5;124;03m         Must be non-empty (contain > 0 objects)\u001b[39;00m\n\u001b[1;32m   2401\u001b[0m \n\u001b[1;32m   2402\u001b[0m \u001b[38;5;124;03m    y : list or numpy.ndarray or pandas.DataFrame or pandas.Series, optional (default=None)\u001b[39;00m\n\u001b[1;32m   2403\u001b[0m \u001b[38;5;124;03m        Labels, 1 dimensional array like.\u001b[39;00m\n\u001b[1;32m   2404\u001b[0m \u001b[38;5;124;03m        Use only if X is not catboost.Pool.\u001b[39;00m\n\u001b[1;32m   2405\u001b[0m \n\u001b[1;32m   2406\u001b[0m \u001b[38;5;124;03m    cat_features : list or numpy.ndarray, optional (default=None)\u001b[39;00m\n\u001b[1;32m   2407\u001b[0m \u001b[38;5;124;03m        If not None, giving the list of Categ columns indices.\u001b[39;00m\n\u001b[1;32m   2408\u001b[0m \u001b[38;5;124;03m        Use only if X is not catboost.Pool and not catboost.FeaturesData\u001b[39;00m\n\u001b[1;32m   2409\u001b[0m \n\u001b[1;32m   2410\u001b[0m \u001b[38;5;124;03m    text_features: list or numpy.ndarray, optional (default=None)\u001b[39;00m\n\u001b[1;32m   2411\u001b[0m \u001b[38;5;124;03m        If not none, giving the list of Text columns indices.\u001b[39;00m\n\u001b[1;32m   2412\u001b[0m \u001b[38;5;124;03m        Use only if X is not catboost.Pool and not catboost.FeaturesData\u001b[39;00m\n\u001b[1;32m   2413\u001b[0m \n\u001b[1;32m   2414\u001b[0m \u001b[38;5;124;03m    embedding_features: list or numpy.ndarray, optional (default=None)\u001b[39;00m\n\u001b[1;32m   2415\u001b[0m \u001b[38;5;124;03m        If not none, giving the list of Embedding columns indices.\u001b[39;00m\n\u001b[1;32m   2416\u001b[0m \u001b[38;5;124;03m        Use only if X is not catboost.Pool and not catboost.FeaturesData\u001b[39;00m\n\u001b[1;32m   2417\u001b[0m \n\u001b[1;32m   2418\u001b[0m \u001b[38;5;124;03m    pairs : list or numpy.ndarray or pandas.DataFrame\u001b[39;00m\n\u001b[1;32m   2419\u001b[0m \u001b[38;5;124;03m        The pairs description.\u001b[39;00m\n\u001b[1;32m   2420\u001b[0m \u001b[38;5;124;03m        If list or numpy.ndarrays or pandas.DataFrame, giving 2 dimensional.\u001b[39;00m\n\u001b[1;32m   2421\u001b[0m \u001b[38;5;124;03m        The shape should be Nx2, where N is the pairs' count. The first element of the pair is\u001b[39;00m\n\u001b[1;32m   2422\u001b[0m \u001b[38;5;124;03m        the index of the winner object in the training set. The second element of the pair is\u001b[39;00m\n\u001b[1;32m   2423\u001b[0m \u001b[38;5;124;03m        the index of the loser object in the training set.\u001b[39;00m\n\u001b[1;32m   2424\u001b[0m \n\u001b[1;32m   2425\u001b[0m \u001b[38;5;124;03m    sample_weight : list or numpy.ndarray or pandas.DataFrame or pandas.Series, optional (default=None)\u001b[39;00m\n\u001b[1;32m   2426\u001b[0m \u001b[38;5;124;03m        Instance weights, 1 dimensional array like.\u001b[39;00m\n\u001b[1;32m   2427\u001b[0m \n\u001b[1;32m   2428\u001b[0m \u001b[38;5;124;03m    group_id : list or numpy.ndarray, optional (default=None)\u001b[39;00m\n\u001b[1;32m   2429\u001b[0m \u001b[38;5;124;03m        group id for each instance.\u001b[39;00m\n\u001b[1;32m   2430\u001b[0m \u001b[38;5;124;03m        If not None, giving 1 dimensional array like data.\u001b[39;00m\n\u001b[1;32m   2431\u001b[0m \u001b[38;5;124;03m        Use only if X is not catboost.Pool.\u001b[39;00m\n\u001b[1;32m   2432\u001b[0m \n\u001b[1;32m   2433\u001b[0m \u001b[38;5;124;03m    group_weight : list or numpy.ndarray, optional (default=None)\u001b[39;00m\n\u001b[1;32m   2434\u001b[0m \u001b[38;5;124;03m        Group weight for each instance.\u001b[39;00m\n\u001b[1;32m   2435\u001b[0m \u001b[38;5;124;03m        If not None, giving 1 dimensional array like data.\u001b[39;00m\n\u001b[1;32m   2436\u001b[0m \n\u001b[1;32m   2437\u001b[0m \u001b[38;5;124;03m    subgroup_id : list or numpy.ndarray, optional (default=None)\u001b[39;00m\n\u001b[1;32m   2438\u001b[0m \u001b[38;5;124;03m        subgroup id for each instance.\u001b[39;00m\n\u001b[1;32m   2439\u001b[0m \u001b[38;5;124;03m        If not None, giving 1 dimensional array like data.\u001b[39;00m\n\u001b[1;32m   2440\u001b[0m \u001b[38;5;124;03m        Use only if X is not catboost.Pool.\u001b[39;00m\n\u001b[1;32m   2441\u001b[0m \n\u001b[1;32m   2442\u001b[0m \u001b[38;5;124;03m    pairs_weight : list or numpy.ndarray, optional (default=None)\u001b[39;00m\n\u001b[1;32m   2443\u001b[0m \u001b[38;5;124;03m        Weight for each pair.\u001b[39;00m\n\u001b[1;32m   2444\u001b[0m \u001b[38;5;124;03m        If not None, giving 1 dimensional array like pairs.\u001b[39;00m\n\u001b[1;32m   2445\u001b[0m \n\u001b[1;32m   2446\u001b[0m \u001b[38;5;124;03m    baseline : list or numpy.ndarray, optional (default=None)\u001b[39;00m\n\u001b[1;32m   2447\u001b[0m \u001b[38;5;124;03m        If not None, giving 2 dimensional array like data.\u001b[39;00m\n\u001b[1;32m   2448\u001b[0m \u001b[38;5;124;03m        Use only if X is not catboost.Pool.\u001b[39;00m\n\u001b[1;32m   2449\u001b[0m \n\u001b[1;32m   2450\u001b[0m \u001b[38;5;124;03m    use_best_model : bool, optional (default=None)\u001b[39;00m\n\u001b[1;32m   2451\u001b[0m \u001b[38;5;124;03m        Flag to use best model\u001b[39;00m\n\u001b[1;32m   2452\u001b[0m \n\u001b[1;32m   2453\u001b[0m \u001b[38;5;124;03m    eval_set : catboost.Pool, or list of catboost.Pool, or list of (X, y) tuples, optional (default=None)\u001b[39;00m\n\u001b[1;32m   2454\u001b[0m \u001b[38;5;124;03m        Used as a validation set for early-stopping.\u001b[39;00m\n\u001b[1;32m   2455\u001b[0m \n\u001b[1;32m   2456\u001b[0m \u001b[38;5;124;03m    logging_level : string, optional (default=None)\u001b[39;00m\n\u001b[1;32m   2457\u001b[0m \u001b[38;5;124;03m        Possible values:\u001b[39;00m\n\u001b[1;32m   2458\u001b[0m \u001b[38;5;124;03m            - 'Silent'\u001b[39;00m\n\u001b[1;32m   2459\u001b[0m \u001b[38;5;124;03m            - 'Verbose'\u001b[39;00m\n\u001b[1;32m   2460\u001b[0m \u001b[38;5;124;03m            - 'Info'\u001b[39;00m\n\u001b[1;32m   2461\u001b[0m \u001b[38;5;124;03m            - 'Debug'\u001b[39;00m\n\u001b[1;32m   2462\u001b[0m \n\u001b[1;32m   2463\u001b[0m \u001b[38;5;124;03m    metric_period : int\u001b[39;00m\n\u001b[1;32m   2464\u001b[0m \u001b[38;5;124;03m        Frequency of evaluating metrics.\u001b[39;00m\n\u001b[1;32m   2465\u001b[0m \n\u001b[1;32m   2466\u001b[0m \u001b[38;5;124;03m    verbose : bool or int\u001b[39;00m\n\u001b[1;32m   2467\u001b[0m \u001b[38;5;124;03m        If verbose is bool, then if set to True, logging_level is set to Verbose,\u001b[39;00m\n\u001b[1;32m   2468\u001b[0m \u001b[38;5;124;03m        if set to False, logging_level is set to Silent.\u001b[39;00m\n\u001b[1;32m   2469\u001b[0m \u001b[38;5;124;03m        If verbose is int, it determines the frequency of writing metrics to output and\u001b[39;00m\n\u001b[1;32m   2470\u001b[0m \u001b[38;5;124;03m        logging_level is set to Verbose.\u001b[39;00m\n\u001b[1;32m   2471\u001b[0m \n\u001b[1;32m   2472\u001b[0m \u001b[38;5;124;03m    silent : bool\u001b[39;00m\n\u001b[1;32m   2473\u001b[0m \u001b[38;5;124;03m        If silent is True, logging_level is set to Silent.\u001b[39;00m\n\u001b[1;32m   2474\u001b[0m \u001b[38;5;124;03m        If silent is False, logging_level is set to Verbose.\u001b[39;00m\n\u001b[1;32m   2475\u001b[0m \n\u001b[1;32m   2476\u001b[0m \u001b[38;5;124;03m    verbose_eval : bool or int\u001b[39;00m\n\u001b[1;32m   2477\u001b[0m \u001b[38;5;124;03m        Synonym for verbose. Only one of these parameters should be set.\u001b[39;00m\n\u001b[1;32m   2478\u001b[0m \n\u001b[1;32m   2479\u001b[0m \u001b[38;5;124;03m    plot : bool, optional (default=False)\u001b[39;00m\n\u001b[1;32m   2480\u001b[0m \u001b[38;5;124;03m        If True, draw train and eval error in Jupyter notebook\u001b[39;00m\n\u001b[1;32m   2481\u001b[0m \n\u001b[1;32m   2482\u001b[0m \u001b[38;5;124;03m    plot_file : file-like or str, optional (default=None)\u001b[39;00m\n\u001b[1;32m   2483\u001b[0m \u001b[38;5;124;03m        If not None, save train and eval error graphs to file\u001b[39;00m\n\u001b[1;32m   2484\u001b[0m \n\u001b[1;32m   2485\u001b[0m \u001b[38;5;124;03m    early_stopping_rounds : int\u001b[39;00m\n\u001b[1;32m   2486\u001b[0m \u001b[38;5;124;03m        Activates Iter overfitting detector with od_wait parameter set to early_stopping_rounds.\u001b[39;00m\n\u001b[1;32m   2487\u001b[0m \n\u001b[1;32m   2488\u001b[0m \u001b[38;5;124;03m    save_snapshot : bool, [default=None]\u001b[39;00m\n\u001b[1;32m   2489\u001b[0m \u001b[38;5;124;03m        Enable progress snapshotting for restoring progress after crashes or interruptions\u001b[39;00m\n\u001b[1;32m   2490\u001b[0m \n\u001b[1;32m   2491\u001b[0m \u001b[38;5;124;03m    snapshot_file : string or pathlib.Path, [default=None]\u001b[39;00m\n\u001b[1;32m   2492\u001b[0m \u001b[38;5;124;03m        Learn progress snapshot file path, if None will use default filename\u001b[39;00m\n\u001b[1;32m   2493\u001b[0m \n\u001b[1;32m   2494\u001b[0m \u001b[38;5;124;03m    snapshot_interval: int, [default=600]\u001b[39;00m\n\u001b[1;32m   2495\u001b[0m \u001b[38;5;124;03m        Interval between saving snapshots (seconds)\u001b[39;00m\n\u001b[1;32m   2496\u001b[0m \n\u001b[1;32m   2497\u001b[0m \u001b[38;5;124;03m    init_model : CatBoost class or string or pathlib.Path, [default=None]\u001b[39;00m\n\u001b[1;32m   2498\u001b[0m \u001b[38;5;124;03m        Continue training starting from the existing model.\u001b[39;00m\n\u001b[1;32m   2499\u001b[0m \u001b[38;5;124;03m        If this parameter is a string or pathlib.Path, load initial model from the path specified by this string.\u001b[39;00m\n\u001b[1;32m   2500\u001b[0m \n\u001b[1;32m   2501\u001b[0m \u001b[38;5;124;03m    callbacks : list, optional (default=None)\u001b[39;00m\n\u001b[1;32m   2502\u001b[0m \u001b[38;5;124;03m        List of callback objects that are applied at end of each iteration.\u001b[39;00m\n\u001b[1;32m   2503\u001b[0m \n\u001b[1;32m   2504\u001b[0m \u001b[38;5;124;03m    log_cout: output stream or callback for logging\u001b[39;00m\n\u001b[1;32m   2505\u001b[0m \n\u001b[1;32m   2506\u001b[0m \u001b[38;5;124;03m    log_cerr: error stream or callback for logging\u001b[39;00m\n\u001b[1;32m   2507\u001b[0m \n\u001b[1;32m   2508\u001b[0m \u001b[38;5;124;03m    Returns\u001b[39;00m\n\u001b[1;32m   2509\u001b[0m \u001b[38;5;124;03m    -------\u001b[39;00m\n\u001b[1;32m   2510\u001b[0m \u001b[38;5;124;03m    model : CatBoost\u001b[39;00m\n\u001b[1;32m   2511\u001b[0m \u001b[38;5;124;03m    \"\"\"\u001b[39;00m\n\u001b[1;32m   2512\u001b[0m     \u001b[38;5;28;01mreturn\u001b[39;00m \u001b[38;5;28mself\u001b[39m\u001b[38;5;241m.\u001b[39m_fit(X, y, cat_features, text_features, embedding_features, pairs, sample_weight, group_id, group_weight, subgroup_id,\n\u001b[1;32m   2513\u001b[0m                      pairs_weight, baseline, use_best_model, eval_set, verbose, logging_level, plot, plot_file,\n\u001b[1;32m   2514\u001b[0m                      column_description, verbose_eval, metric_period, silent, early_stopping_rounds,\n\u001b[1;32m   2515\u001b[0m                      save_snapshot, snapshot_file, snapshot_interval, init_model, callbacks, log_cout, log_cerr)\n",
      "File \u001b[0;32m~/Library/Python/3.9/lib/python/site-packages/catboost/core.py:1776\u001b[0m, in \u001b[0;36m_train\u001b[0;34m(self, train_pool, test_pool, params, allow_clear_pool, init_model)\u001b[0m\n\u001b[1;32m   1774\u001b[0m \u001b[38;5;28;01mif\u001b[39;00m \u001b[38;5;28mlen\u001b[39m(test_evals) \u001b[38;5;241m>\u001b[39m \u001b[38;5;241m1\u001b[39m:\n\u001b[1;32m   1775\u001b[0m     \u001b[38;5;28;01mraise\u001b[39;00m CatBoostError(\u001b[38;5;124m\"\u001b[39m\u001b[38;5;124mWith multiple eval sets use \u001b[39m\u001b[38;5;124m'\u001b[39m\u001b[38;5;124mget_test_evals()\u001b[39m\u001b[38;5;124m'\u001b[39m\u001b[38;5;124m\"\u001b[39m)\n\u001b[0;32m-> 1776\u001b[0m test_eval \u001b[38;5;241m=\u001b[39m test_evals[\u001b[38;5;241m0\u001b[39m]\n\u001b[1;32m   1777\u001b[0m \u001b[38;5;28;01mreturn\u001b[39;00m test_eval[\u001b[38;5;241m0\u001b[39m] \u001b[38;5;28;01mif\u001b[39;00m \u001b[38;5;28mlen\u001b[39m(test_eval) \u001b[38;5;241m==\u001b[39m \u001b[38;5;241m1\u001b[39m \u001b[38;5;28;01melse\u001b[39;00m test_eval\n",
      "File \u001b[0;32m_catboost.pyx:4833\u001b[0m, in \u001b[0;36m_catboost._CatBoost._train\u001b[0;34m()\u001b[0m\n",
      "File \u001b[0;32m_catboost.pyx:4882\u001b[0m, in \u001b[0;36m_catboost._CatBoost._train\u001b[0;34m()\u001b[0m\n",
      "\u001b[0;31mCatBoostError\u001b[0m: /Users/zomb-ml-platform-msk/go-agent-21.2.0/pipelines/BuildMaster/catboost.git/catboost/libs/train_lib/trainer_env.cpp:9: Environment for task type [GPU] not found"
     ]
    }
   ],
   "source": [
    "train_df, test_df = train_test_split(df, test_size=0.2, random_state=42)\n",
    "        \n",
    "# Pool 생성\n",
    "train_pool = Pool(train_df.drop(['DGSTFN'], axis=1),\n",
    "                  label=train_df['DGSTFN'],\n",
    "                  cat_features=categorical_features)\n",
    "test_pool = Pool(test_df.drop(['DGSTFN'], axis=1),\n",
    "                 label=test_df['DGSTFN'],\n",
    "                 cat_features=categorical_features)\n",
    "\n",
    "# 모델 학습\n",
    "model = CatBoostRegressor(loss_function='RMSE', eval_metric='MAE', task_type='CPU', depth=6, learning_rate=0.01, n_estimators=2000)\n",
    "model.fit(train_pool, eval_set=test_pool, verbose=False)\n",
    "\n",
    "# 검증 데이터셋에서의 MSE 계산\n",
    "predictions = model.predict(test_pool)\n",
    "mse = mean_squared_error(test_df['DGSTFN'], predictions)\n",
    "\n",
    "print(mse)"
   ]
  },
  {
   "cell_type": "code",
   "execution_count": 9,
   "metadata": {},
   "outputs": [
    {
     "ename": "NameError",
     "evalue": "name 'model' is not defined",
     "output_type": "error",
     "traceback": [
      "\u001b[0;31m---------------------------------------------------------------------------\u001b[0m",
      "\u001b[0;31mNameError\u001b[0m                                 Traceback (most recent call last)",
      "Cell \u001b[0;32mIn[9], line 1\u001b[0m\n\u001b[0;32m----> 1\u001b[0m \u001b[43mmodel\u001b[49m\u001b[38;5;241m.\u001b[39msave_model(\u001b[38;5;124m'\u001b[39m\u001b[38;5;124mcbf_model.cbm\u001b[39m\u001b[38;5;124m'\u001b[39m, \u001b[38;5;28mformat\u001b[39m\u001b[38;5;241m=\u001b[39m\u001b[38;5;124m\"\u001b[39m\u001b[38;5;124mcbm\u001b[39m\u001b[38;5;124m\"\u001b[39m)\n",
      "\u001b[0;31mNameError\u001b[0m: name 'model' is not defined"
     ]
    }
   ],
   "source": [
    "model.save_model('cbf_model.cbm', format=\"cbm\")"
   ]
  }
 ],
 "metadata": {
  "kernelspec": {
   "display_name": "Python 3",
   "language": "python",
   "name": "python3"
  },
  "language_info": {
   "codemirror_mode": {
    "name": "ipython",
    "version": 3
   },
   "file_extension": ".py",
   "mimetype": "text/x-python",
   "name": "python",
   "nbconvert_exporter": "python",
   "pygments_lexer": "ipython3",
   "version": "3.9.6"
  }
 },
 "nbformat": 4,
 "nbformat_minor": 2
}
