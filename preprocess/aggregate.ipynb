{
 "cells": [
  {
   "cell_type": "code",
   "execution_count": 1,
   "id": "a9e32893",
   "metadata": {},
   "outputs": [],
   "source": [
    "import pandas as pd\n",
    "import os"
   ]
  },
  {
   "cell_type": "code",
   "execution_count": 6,
   "id": "8a57a1c6",
   "metadata": {},
   "outputs": [],
   "source": [
    "csv_path = os.path.abspath(os.path.join(os.getcwd(), '..', 'csv'))\n",
    "data_path = os.path.abspath(os.path.join(os.getcwd(), '..', 'data'))\n",
    "\n",
    "traveller_folder = os.path.join(csv_path, 'traveller')\n",
    "travel_folder = os.path.join(csv_path, 'travel')\n",
    "area_folder = os.path.join(csv_path, 'area')\n",
    "\n",
    "consume_folder= os.path.join(csv_path, 'consume')\n",
    "move_folder = os.path.join(csv_path, 'move')\n"
   ]
  },
  {
   "cell_type": "code",
   "execution_count": 3,
   "id": "5685785b",
   "metadata": {},
   "outputs": [
    {
     "name": "stderr",
     "output_type": "stream",
     "text": [
      "/var/folders/jx/jl9n9n4d0qj3w4flzwz3w0y00000gn/T/ipykernel_2477/3954411226.py:12: DtypeWarning: Columns (9) have mixed types. Specify dtype option on import or set low_memory=False.\n",
      "  df_area_B = pd.read_csv(os.path.join(area_folder, 'tn_visit_area_info_B.csv'))\n",
      "/var/folders/jx/jl9n9n4d0qj3w4flzwz3w0y00000gn/T/ipykernel_2477/3954411226.py:13: DtypeWarning: Columns (9) have mixed types. Specify dtype option on import or set low_memory=False.\n",
      "  df_area_C = pd.read_csv(os.path.join(area_folder, 'tn_visit_area_info_C.csv'))\n",
      "/var/folders/jx/jl9n9n4d0qj3w4flzwz3w0y00000gn/T/ipykernel_2477/3954411226.py:14: DtypeWarning: Columns (8,9) have mixed types. Specify dtype option on import or set low_memory=False.\n",
      "  df_area_D = pd.read_csv(os.path.join(area_folder, 'tn_visit_area_info_D.csv'))\n"
     ]
    }
   ],
   "source": [
    "# 가장 기본적인 여행 정보인 여행자, 여행, 방문지 정보를 통합하여 정리\n",
    "df_traveller_A = pd.read_csv(os.path.join(traveller_folder, 'tn_traveller_master_A.csv'))\n",
    "df_traveller_B = pd.read_csv(os.path.join(traveller_folder, 'tn_traveller_master_B.csv'))\n",
    "df_traveller_C = pd.read_csv(os.path.join(traveller_folder, 'tn_traveller_master_C.csv'))\n",
    "df_traveller_D = pd.read_csv(os.path.join(traveller_folder, 'tn_traveller_master_D.csv'))\n",
    "\n",
    "df_travel_A = pd.read_csv(os.path.join(travel_folder, 'tn_travel_A.csv'))\n",
    "df_travel_B = pd.read_csv(os.path.join(travel_folder, 'tn_travel_B.csv'))\n",
    "df_travel_C = pd.read_csv(os.path.join(travel_folder, 'tn_travel_C.csv'))\n",
    "df_travel_D = pd.read_csv(os.path.join(travel_folder, 'tn_travel_D.csv'))\n",
    "\n",
    "df_area_A = pd.read_csv(os.path.join(area_folder, 'tn_visit_area_info_A.csv'))\n",
    "df_area_B = pd.read_csv(os.path.join(area_folder, 'tn_visit_area_info_B.csv'))\n",
    "df_area_C = pd.read_csv(os.path.join(area_folder, 'tn_visit_area_info_C.csv'))\n",
    "df_area_D = pd.read_csv(os.path.join(area_folder, 'tn_visit_area_info_D.csv'))\n",
    "\n",
    "df_traveller = pd.concat([df_traveller_A, df_traveller_B, df_traveller_C, df_traveller_D]).reset_index(drop=True)\n",
    "df_travel = pd.concat([df_travel_A, df_travel_B, df_travel_C, df_travel_D]).reset_index(drop=True)\n",
    "df_area = pd.concat([df_area_A, df_area_B, df_area_C, df_area_D]).reset_index(drop=True)\n",
    "\n",
    "df_traveller.to_csv(os.path.join(data_path, 'traveller.csv'), index = False)\n",
    "df_travel.to_csv(os.path.join(data_path, 'travel.csv'), index = False)\n",
    "df_area.to_csv(os.path.join(data_path, 'area.csv'), index = False)"
   ]
  },
  {
   "cell_type": "code",
   "execution_count": 5,
   "id": "5112e302",
   "metadata": {},
   "outputs": [],
   "source": [
    "# 활동 비용, 부가 비용, 숙박 비용, 이동 비용 내역 통합\n",
    "df_activity_A = pd.read_csv(os.path.join(consume_folder, 'tn_activity_consume_his_A.csv'))\n",
    "df_activity_B = pd.read_csv(os.path.join(consume_folder, 'tn_activity_consume_his_B.csv'))\n",
    "df_activity_C = pd.read_csv(os.path.join(consume_folder, 'tn_activity_consume_his_C.csv'))\n",
    "df_activity_D = pd.read_csv(os.path.join(consume_folder, 'tn_activity_consume_his_D.csv'))\n",
    "\n",
    "df_adv_A = pd.read_csv(os.path.join(consume_folder, 'tn_adv_consume_his_A.csv'))\n",
    "df_adv_B = pd.read_csv(os.path.join(consume_folder, 'tn_adv_consume_his_B.csv'))\n",
    "df_adv_C = pd.read_csv(os.path.join(consume_folder, 'tn_adv_consume_his_C.csv'))\n",
    "df_adv_D = pd.read_csv(os.path.join(consume_folder, 'tn_adv_consume_his_D.csv'))\n",
    "\n",
    "df_lodge_A = pd.read_csv(os.path.join(consume_folder, 'tn_lodge_consume_his_A.csv'))\n",
    "df_lodge_B = pd.read_csv(os.path.join(consume_folder, 'tn_lodge_consume_his_B.csv'))\n",
    "df_lodge_C = pd.read_csv(os.path.join(consume_folder, 'tn_lodge_consume_his_C.csv'))\n",
    "df_lodge_D = pd.read_csv(os.path.join(consume_folder, 'tn_lodge_consume_his_D.csv'))\n",
    "\n",
    "df_mvmn_A = pd.read_csv(os.path.join(consume_folder, 'tn_mvmn_consume_his_A.csv'))\n",
    "df_mvmn_B = pd.read_csv(os.path.join(consume_folder, 'tn_mvmn_consume_his_B.csv'))\n",
    "df_mvmn_C = pd.read_csv(os.path.join(consume_folder, 'tn_mvmn_consume_his_C.csv'))\n",
    "df_mvmn_D = pd.read_csv(os.path.join(consume_folder, 'tn_mvmn_consume_his_D.csv'))\n",
    "\n",
    "df_activity = pd.concat([df_activity_A, df_activity_B, df_activity_C, df_activity_D]).reset_index(drop=True)\n",
    "df_adv = pd.concat([df_adv_A, df_adv_B, df_adv_C, df_adv_D]).reset_index(drop=True)\n",
    "df_lodge = pd.concat([df_lodge_A, df_lodge_B, df_lodge_C, df_lodge_D]).reset_index(drop=True)\n",
    "df_mvmn = pd.concat([df_mvmn_A, df_mvmn_B, df_mvmn_C, df_mvmn_D]).reset_index(drop=True)\n",
    "\n",
    "# 비용이니 expense\n",
    "df_activity.to_csv(os.path.join(data_path, 'activity_exp.csv'), index = False)\n",
    "df_adv.to_csv(os.path.join(data_path, 'adv_exp.csv'), index = False)\n",
    "df_lodge.to_csv(os.path.join(data_path, 'lodge_exp.csv'), index = False)\n",
    "df_mvmn.to_csv(os.path.join(data_path, 'mvmn_exp.csv'), index = False)"
   ]
  },
  {
   "cell_type": "code",
   "execution_count": 7,
   "id": "f9663101",
   "metadata": {},
   "outputs": [
    {
     "ename": "NameError",
     "evalue": "name 'df_' is not defined",
     "output_type": "error",
     "traceback": [
      "\u001b[0;31m---------------------------------------------------------------------------\u001b[0m",
      "\u001b[0;31mNameError\u001b[0m                                 Traceback (most recent call last)",
      "Cell \u001b[0;32mIn[7], line 7\u001b[0m\n\u001b[1;32m      4\u001b[0m df_move_his_C \u001b[38;5;241m=\u001b[39m pd\u001b[38;5;241m.\u001b[39mread_csv(os\u001b[38;5;241m.\u001b[39mpath\u001b[38;5;241m.\u001b[39mjoin(move_folder, \u001b[38;5;124m'\u001b[39m\u001b[38;5;124mtn_move_his_C.csv\u001b[39m\u001b[38;5;124m'\u001b[39m))\n\u001b[1;32m      5\u001b[0m df_move_his_D \u001b[38;5;241m=\u001b[39m pd\u001b[38;5;241m.\u001b[39mread_csv(os\u001b[38;5;241m.\u001b[39mpath\u001b[38;5;241m.\u001b[39mjoin(move_folder, \u001b[38;5;124m'\u001b[39m\u001b[38;5;124mtn_move_his_D.csv\u001b[39m\u001b[38;5;124m'\u001b[39m))\n\u001b[0;32m----> 7\u001b[0m df_move_his \u001b[38;5;241m=\u001b[39m pd\u001b[38;5;241m.\u001b[39mconcat([df_move_his_A, df_move_his_B, df_move_his_C, \u001b[43mdf_\u001b[49m])\n",
      "\u001b[0;31mNameError\u001b[0m: name 'df_' is not defined"
     ]
    }
   ],
   "source": [
    "# 이동 정보 통합\n",
    "df_move_his_A = pd.read_csv(os.path.join(move_folder, 'tn_move_his_A.csv'))\n",
    "df_move_his_B = pd.read_csv(os.path.join(move_folder, 'tn_move_his_B.csv'))\n",
    "df_move_his_C = pd.read_csv(os.path.join(move_folder, 'tn_move_his_C.csv'))\n",
    "df_move_his_D = pd.read_csv(os.path.join(move_folder, 'tn_move_his_D.csv'))\n",
    "\n",
    "df_move_his = pd.concat([df_move_his_A, df_move_his_B, df_move_his_C, df_move_his_D]).reset_index(drop=True)\n",
    "\n",
    "df_move_his.to_csv(os.path.join(data_path, 'move_his.csv'), index = False)"
   ]
  },
  {
   "cell_type": "code",
   "execution_count": null,
   "id": "92833658",
   "metadata": {},
   "outputs": [],
   "source": []
  }
 ],
 "metadata": {
  "kernelspec": {
   "display_name": "PyTorch 1.13 (NGC 22.05/Python 3.8 Conda) on Backend.AI",
   "language": "python",
   "name": "python3"
  },
  "language_info": {
   "codemirror_mode": {
    "name": "ipython",
    "version": 3
   },
   "file_extension": ".py",
   "mimetype": "text/x-python",
   "name": "python",
   "nbconvert_exporter": "python",
   "pygments_lexer": "ipython3",
   "version": "3.9.6"
  }
 },
 "nbformat": 4,
 "nbformat_minor": 5
}
